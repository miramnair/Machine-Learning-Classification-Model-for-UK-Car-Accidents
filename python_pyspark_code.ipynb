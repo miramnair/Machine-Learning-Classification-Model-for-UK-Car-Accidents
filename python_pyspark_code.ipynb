{
  "cells": [
    {
      "cell_type": "markdown",
      "metadata": {
        "id": "view-in-github",
        "colab_type": "text"
      },
      "source": [
        "<a href=\"https://colab.research.google.com/github/miramnair/Machine-Learning-Classification-Model-for-UK-Car-Accidents/blob/main/python_pyspark_code.ipynb\" target=\"_parent\"><img src=\"https://colab.research.google.com/assets/colab-badge.svg\" alt=\"Open In Colab\"/></a>"
      ]
    },
    {
      "cell_type": "code",
      "execution_count": null,
      "id": "9a92fd7a",
      "metadata": {
        "id": "9a92fd7a",
        "outputId": "e9ad4f50-286e-456e-aa07-4f82d26fd9e1"
      },
      "outputs": [
        {
          "name": "stdout",
          "output_type": "stream",
          "text": [
            "3.3.2\n"
          ]
        }
      ],
      "source": [
        "#import and check the version\n",
        "import pyspark\n",
        "print(pyspark.__version__)"
      ]
    },
    {
      "cell_type": "markdown",
      "id": "eaf9d597",
      "metadata": {
        "id": "eaf9d597"
      },
      "source": [
        "<font size =5> Import and test pyspark </font>"
      ]
    },
    {
      "cell_type": "code",
      "execution_count": null,
      "id": "6062f767",
      "metadata": {
        "id": "6062f767",
        "outputId": "b410823b-65cc-46f4-989a-312b53ed40ab"
      },
      "outputs": [
        {
          "name": "stderr",
          "output_type": "stream",
          "text": [
            "Setting default log level to \"WARN\".\n",
            "To adjust logging level use sc.setLogLevel(newLevel). For SparkR, use setLogLevel(newLevel).\n"
          ]
        },
        {
          "name": "stdout",
          "output_type": "stream",
          "text": [
            "23/04/17 21:17:54 WARN NativeCodeLoader: Unable to load native-hadoop library for your platform... using builtin-java classes where applicable\n"
          ]
        }
      ],
      "source": [
        "from pyspark.sql import SparkSession\n",
        "\n",
        "spark = SparkSession.builder \\\n",
        "        .master('local[*]') \\\n",
        "        .appName('spark_coursework') \\\n",
        "        .getOrCreate()"
      ]
    },
    {
      "cell_type": "code",
      "execution_count": null,
      "id": "a2323907",
      "metadata": {
        "id": "a2323907",
        "outputId": "3e14b896-afee-4b2e-8323-5e9efb52f1ac"
      },
      "outputs": [
        {
          "name": "stderr",
          "output_type": "stream",
          "text": [
            "                                                                                \r"
          ]
        },
        {
          "data": {
            "text/plain": [
              "[1, 2, 3, 4, 5]"
            ]
          },
          "execution_count": 3,
          "metadata": {},
          "output_type": "execute_result"
        }
      ],
      "source": [
        "rdd = spark.sparkContext.parallelize([1, 2, 3, 4, 5])\n",
        "rdd.collect()"
      ]
    },
    {
      "cell_type": "markdown",
      "id": "ee7e6b09",
      "metadata": {
        "id": "ee7e6b09"
      },
      "source": [
        "<font size = 5>  Import libraries</font>"
      ]
    },
    {
      "cell_type": "code",
      "execution_count": null,
      "id": "2dcd6951",
      "metadata": {
        "id": "2dcd6951"
      },
      "outputs": [],
      "source": [
        "from pyspark.ml.feature import VectorAssembler, OneHotEncoder, StringIndexer, VectorSlicer, ChiSqSelector\n",
        "from pyspark.sql.functions import col, split, substring, date_format, to_date, when, count\n",
        "from pyspark.sql.types import DoubleType\n",
        "from pyspark.ml.classification import DecisionTreeClassifier, RandomForestClassifier, LogisticRegression\n",
        "from pyspark.ml.linalg import DenseVector, VectorUDT\n",
        "from pyspark.sql.functions import udf\n",
        "from pyspark.ml.evaluation import MulticlassClassificationEvaluator, BinaryClassificationEvaluator\n",
        "from pyspark.ml.tuning import ParamGridBuilder, CrossValidator\n",
        "from pyspark.sql import functions as F\n",
        "from pyspark.sql.functions import col, isnan, isnull, length, trim\n",
        "from pyspark.sql.functions import lit, udf\n",
        "from pyspark.sql.types import DoubleType\n",
        "from math import radians, sin, cos, sqrt, asin\n",
        "import pandas as pd\n",
        "from pyspark.sql.functions import corr\n",
        "from pyspark.ml.pipeline import Pipeline\n",
        "import time\n",
        "from pyspark.mllib.evaluation import MulticlassMetrics\n",
        "from pyspark.sql.functions import floor\n",
        "from pyspark.ml.feature import RFormula, StandardScaler\n",
        "import geopy\n",
        "from geopy.distance import great_circle\n",
        "from pyspark.sql.functions import mean\n",
        "from pyspark.sql.functions import corr\n",
        "from pyspark.sql.functions import count\n",
        "import numpy as np\n",
        "from functools import reduce\n",
        "import seaborn as sns\n",
        "import matplotlib.pyplot as plt\n",
        "from pyspark.ml.stat import Correlation"
      ]
    },
    {
      "cell_type": "code",
      "execution_count": null,
      "id": "357bdc56",
      "metadata": {
        "id": "357bdc56",
        "outputId": "07a0eaec-bcbf-4a9d-f2db-2cb4c7c1ab60"
      },
      "outputs": [
        {
          "name": "stderr",
          "output_type": "stream",
          "text": [
            "                                                                                \r"
          ]
        },
        {
          "name": "stdout",
          "output_type": "stream",
          "text": [
            "root\n",
            " |-- accident_index: string (nullable = true)\n",
            " |-- accident_year: integer (nullable = true)\n",
            " |-- accident_reference: string (nullable = true)\n",
            " |-- vehicle_reference: integer (nullable = true)\n",
            " |-- casualty_reference: integer (nullable = true)\n",
            " |-- casualty_class: integer (nullable = true)\n",
            " |-- sex_of_casualty: integer (nullable = true)\n",
            " |-- age_of_casualty: integer (nullable = true)\n",
            " |-- age_band_of_casualty: integer (nullable = true)\n",
            " |-- casualty_severity: integer (nullable = true)\n",
            " |-- pedestrian_location: integer (nullable = true)\n",
            " |-- pedestrian_movement: integer (nullable = true)\n",
            " |-- car_passenger: integer (nullable = true)\n",
            " |-- bus_or_coach_passenger: integer (nullable = true)\n",
            " |-- pedestrian_road_maintenance_worker: integer (nullable = true)\n",
            " |-- casualty_type: integer (nullable = true)\n",
            " |-- casualty_home_area_type: integer (nullable = true)\n",
            " |-- casualty_imd_decile: integer (nullable = true)\n",
            "\n"
          ]
        },
        {
          "name": "stderr",
          "output_type": "stream",
          "text": [
            "\r",
            "[Stage 3:>                                                          (0 + 8) / 8]\r"
          ]
        },
        {
          "name": "stdout",
          "output_type": "stream",
          "text": [
            "Number of rows:  781716\n",
            "Number of columns:  18\n"
          ]
        },
        {
          "name": "stderr",
          "output_type": "stream",
          "text": [
            "\r",
            "                                                                                \r"
          ]
        }
      ],
      "source": [
        "# read the first CSV file\n",
        "casualty = spark.read.format(\"csv\").option(\"header\", \"true\").load('/Users/meeranair/Documents/Coventry/7153CEM/dft-road-casualty-statistics-casualty-last-5-years.csv',header = True, \\\n",
        "                              inferSchema=True).alias(\"casualty\")\n",
        "casualty.printSchema()\n",
        "\n",
        "# get the number of rows\n",
        "num_rows = casualty.count()\n",
        "# get the number of columns\n",
        "num_cols = len(casualty.columns)\n",
        "print(\"Number of rows: \", num_rows)\n",
        "print(\"Number of columns: \", num_cols)\n"
      ]
    },
    {
      "cell_type": "code",
      "execution_count": null,
      "id": "e771f069",
      "metadata": {
        "id": "e771f069"
      },
      "outputs": [],
      "source": [
        "#drop duplicates\n",
        "casualty = casualty.dropDuplicates(['accident_index'])"
      ]
    },
    {
      "cell_type": "code",
      "execution_count": null,
      "id": "a15fb39d",
      "metadata": {
        "id": "a15fb39d",
        "outputId": "3bbe467a-e385-4895-b118-41fd566d4a9b"
      },
      "outputs": [
        {
          "name": "stderr",
          "output_type": "stream",
          "text": [
            "                                                                                \r"
          ]
        },
        {
          "name": "stdout",
          "output_type": "stream",
          "text": [
            "Columns with null values: []\n"
          ]
        },
        {
          "name": "stderr",
          "output_type": "stream",
          "text": [
            "                                                                                \r"
          ]
        },
        {
          "name": "stdout",
          "output_type": "stream",
          "text": [
            "Columns with NaN values: []\n"
          ]
        },
        {
          "name": "stderr",
          "output_type": "stream",
          "text": [
            "                                                                                \r"
          ]
        },
        {
          "name": "stdout",
          "output_type": "stream",
          "text": [
            "Columns with empty or blank strings: []\n"
          ]
        },
        {
          "name": "stderr",
          "output_type": "stream",
          "text": [
            "                                                                                \r"
          ]
        },
        {
          "name": "stdout",
          "output_type": "stream",
          "text": [
            "Column sex_of_casualty has 524 rows with a value of -1\n",
            "Column age_of_casualty has 8373 rows with a value of -1\n",
            "Column age_band_of_casualty has 8373 rows with a value of -1\n"
          ]
        },
        {
          "name": "stderr",
          "output_type": "stream",
          "text": [
            "                                                                                \r"
          ]
        },
        {
          "name": "stdout",
          "output_type": "stream",
          "text": [
            "Column pedestrian_location has 12 rows with a value of -1\n",
            "Column pedestrian_movement has 16 rows with a value of -1\n",
            "Column car_passenger has 564 rows with a value of -1\n",
            "Column bus_or_coach_passenger has 159 rows with a value of -1\n",
            "Column pedestrian_road_maintenance_worker has 419 rows with a value of -1\n",
            "Column casualty_type has 10 rows with a value of -1\n"
          ]
        },
        {
          "name": "stderr",
          "output_type": "stream",
          "text": [
            "                                                                                \r"
          ]
        },
        {
          "name": "stdout",
          "output_type": "stream",
          "text": [
            "Column casualty_home_area_type has 71353 rows with a value of -1\n",
            "Column casualty_imd_decile has 71501 rows with a value of -1\n"
          ]
        }
      ],
      "source": [
        "#drop duplicates\n",
        "casualty = casualty.dropDuplicates(['accident_index'])\n",
        "\n",
        "\n",
        "#check for null values\n",
        "null_cols = [c for c in casualty.columns if casualty.filter((col(c).isNull()) | (col(c) == \"NULL\")).count() > 0]\n",
        "\n",
        "print(\"Columns with null values:\", null_cols)\n",
        "\n",
        "#check for NaN values\n",
        "nan_cols = [c for c in casualty.columns if casualty.filter(isnan(col(c))).count() > 0]\n",
        "print(\"Columns with NaN values:\", nan_cols)\n",
        "\n",
        "#check for empty or blank strings\n",
        "blank_cols = [c for c in casualty.columns if casualty.filter((length(trim(col(c))) == 0)).count() > 0]\n",
        "print(\"Columns with empty or blank strings:\", blank_cols)\n",
        "\n",
        "#check if any columns contain -1 (missing values)\n",
        "cols_with_neg1 = []\n",
        "for c in casualty.columns:\n",
        "    count = casualty.filter(col(c) == -1).count()\n",
        "    if count > 0:\n",
        "        cols_with_neg1.append(c)\n",
        "        print(f\"Column {c} has {count} rows with a value of -1\")\n",
        ""
      ]
    },
    {
      "cell_type": "code",
      "execution_count": null,
      "id": "a2ec2cf3",
      "metadata": {
        "id": "a2ec2cf3",
        "outputId": "d1d04c34-f5b1-4732-a93b-7b5dab5666ce"
      },
      "outputs": [
        {
          "name": "stderr",
          "output_type": "stream",
          "text": [
            "[Stage 7:===========================================================(8 + 0) / 8]\r"
          ]
        },
        {
          "name": "stdout",
          "output_type": "stream",
          "text": [
            "Number of rows deleted with at least one -1 value: 1168\n"
          ]
        },
        {
          "name": "stderr",
          "output_type": "stream",
          "text": [
            "\r",
            "                                                                                \r"
          ]
        }
      ],
      "source": [
        "#drop columns with too many missing values\n",
        "casualty = casualty.drop('casualty_home_area_type','casualty_imd_decile','age_of_casualty','age_band_of_casualty',\n",
        "                            'sex_of_casualty')\n",
        "\n",
        "#delete the rows containing -1 (missing values) and print number of rows that were deleted\n",
        "conditions = [col(c) == -1 for c in casualty.columns]\n",
        "count = casualty.filter(reduce(lambda x, y: x | y, conditions)).count()\n",
        "accidents1_filtered = casualty.filter(reduce(lambda x, y: x | y, conditions))\n",
        "print(\"Number of rows deleted with at least one -1 value:\", count)\n",
        "\n",
        "#drop the filtered rows\n",
        "accidents1_filtered = casualty.subtract(accidents1_filtered)\n",
        "casualty = accidents1_filtered\n",
        "\n"
      ]
    },
    {
      "cell_type": "code",
      "execution_count": null,
      "id": "f8430f5a",
      "metadata": {
        "id": "f8430f5a",
        "outputId": "4e3c07d7-35c2-41fe-fa7e-ae671ef3acde"
      },
      "outputs": [
        {
          "name": "stdout",
          "output_type": "stream",
          "text": [
            "root\n",
            " |-- accident_index: string (nullable = true)\n",
            " |-- casualty_class: integer (nullable = true)\n",
            " |-- casualty_severity: integer (nullable = true)\n",
            " |-- car_passenger: integer (nullable = true)\n",
            " |-- bus_or_coach_passenger: integer (nullable = true)\n",
            " |-- pedestrian_road_maintenance_worker: integer (nullable = true)\n",
            " |-- casualty_type: integer (nullable = true)\n",
            "\n",
            "23/04/17 11:52:34 WARN package: Truncated the string representation of a plan since it was too large. This behavior can be adjusted by setting 'spark.sql.debug.maxToStringFields'.\n"
          ]
        },
        {
          "name": "stderr",
          "output_type": "stream",
          "text": [
            "                                                                                \r"
          ]
        },
        {
          "name": "stdout",
          "output_type": "stream",
          "text": [
            "Number of rows:  596805\n",
            "Number of columns:  7\n"
          ]
        }
      ],
      "source": [
        "#drop  irrelevant column\n",
        "casualty = casualty.drop('pedestrian_location','pedestrian_movement', 'casualty_reference', 'accident_reference',\n",
        "                         'vehicle_reference','accident_year')\n",
        "\n",
        "casualty.printSchema()\n",
        "\n",
        "#get the number of rows\n",
        "num_rows = casualty.count()\n",
        "\n",
        "#get the number of columns\n",
        "num_cols = len(casualty.columns)\n",
        "\n",
        "#print the results\n",
        "print(\"Number of rows: \", num_rows)\n",
        "print(\"Number of columns: \", num_cols)\n",
        "\n"
      ]
    },
    {
      "cell_type": "code",
      "execution_count": null,
      "id": "05392730",
      "metadata": {
        "id": "05392730",
        "outputId": "f6d3352f-d3d4-4c2c-ea94-57b588afe589"
      },
      "outputs": [
        {
          "name": "stderr",
          "output_type": "stream",
          "text": [
            "                                                                                \r"
          ]
        },
        {
          "name": "stdout",
          "output_type": "stream",
          "text": [
            "root\n",
            " |-- accident_index: string (nullable = true)\n",
            " |-- accident_year: integer (nullable = true)\n",
            " |-- accident_reference: string (nullable = true)\n",
            " |-- vehicle_reference: integer (nullable = true)\n",
            " |-- vehicle_type: integer (nullable = true)\n",
            " |-- towing_and_articulation: integer (nullable = true)\n",
            " |-- vehicle_manoeuvre: integer (nullable = true)\n",
            " |-- vehicle_direction_from: integer (nullable = true)\n",
            " |-- vehicle_direction_to: integer (nullable = true)\n",
            " |-- vehicle_location_restricted_lane: integer (nullable = true)\n",
            " |-- junction_location: integer (nullable = true)\n",
            " |-- skidding_and_overturning: integer (nullable = true)\n",
            " |-- hit_object_in_carriageway: integer (nullable = true)\n",
            " |-- vehicle_leaving_carriageway: integer (nullable = true)\n",
            " |-- hit_object_off_carriageway: integer (nullable = true)\n",
            " |-- first_point_of_impact: integer (nullable = true)\n",
            " |-- vehicle_left_hand_drive: integer (nullable = true)\n",
            " |-- journey_purpose_of_driver: integer (nullable = true)\n",
            " |-- sex_of_driver: integer (nullable = true)\n",
            " |-- age_of_driver: integer (nullable = true)\n",
            " |-- age_band_of_driver: integer (nullable = true)\n",
            " |-- engine_capacity_cc: integer (nullable = true)\n",
            " |-- propulsion_code: integer (nullable = true)\n",
            " |-- age_of_vehicle: integer (nullable = true)\n",
            " |-- generic_make_model: string (nullable = true)\n",
            " |-- driver_imd_decile: integer (nullable = true)\n",
            " |-- driver_home_area_type: integer (nullable = true)\n",
            "\n",
            "Number of rows:  1101591\n",
            "Number of columns:  27\n"
          ]
        }
      ],
      "source": [
        "#read the second (vehicle) CSV file\n",
        "vehicle = spark.read.format(\"csv\").option(\"header\", \"true\").load('/Users/meeranair/Documents/Coventry/7153CEM/dft-road-casualty-statistics-vehicle-last-5-years.csv',header = True, \\\n",
        "                              inferSchema=True).alias(\"vehicle\")\n",
        "vehicle.printSchema()\n",
        "# get the number of rows\n",
        "num_rows = vehicle.count()\n",
        "# get the number of columns\n",
        "num_cols = len(vehicle.columns)\n",
        "print(\"Number of rows: \", num_rows)\n",
        "print(\"Number of columns: \", num_cols)"
      ]
    },
    {
      "cell_type": "code",
      "execution_count": null,
      "id": "60985b7d",
      "metadata": {
        "id": "60985b7d"
      },
      "outputs": [],
      "source": [
        "#drop duplicates\n",
        "vehicle = vehicle.dropDuplicates(['accident_index'])"
      ]
    },
    {
      "cell_type": "code",
      "execution_count": null,
      "id": "c6d3d7b1",
      "metadata": {
        "id": "c6d3d7b1",
        "outputId": "50e555b9-2bc4-4756-f71c-9ac6f2953522"
      },
      "outputs": [
        {
          "name": "stderr",
          "output_type": "stream",
          "text": [
            "                                                                                \r"
          ]
        },
        {
          "name": "stdout",
          "output_type": "stream",
          "text": [
            "Columns with null values: []\n"
          ]
        },
        {
          "name": "stderr",
          "output_type": "stream",
          "text": [
            "                                                                                \r"
          ]
        },
        {
          "name": "stdout",
          "output_type": "stream",
          "text": [
            "Columns with NaN values: []\n"
          ]
        },
        {
          "name": "stderr",
          "output_type": "stream",
          "text": [
            "                                                                                \r"
          ]
        },
        {
          "name": "stdout",
          "output_type": "stream",
          "text": [
            "Columns with empty or blank strings: []\n",
            "Column vehicle_type has 844 rows with a value of -1\n",
            "Column towing_and_articulation has 1414 rows with a value of -1\n",
            "Column vehicle_manoeuvre has 1206 rows with a value of -1\n"
          ]
        },
        {
          "name": "stderr",
          "output_type": "stream",
          "text": [
            "                                                                                \r"
          ]
        },
        {
          "name": "stdout",
          "output_type": "stream",
          "text": [
            "Column vehicle_direction_from has 4267 rows with a value of -1\n",
            "Column vehicle_direction_to has 4492 rows with a value of -1\n",
            "Column vehicle_location_restricted_lane has 1263 rows with a value of -1\n"
          ]
        },
        {
          "name": "stderr",
          "output_type": "stream",
          "text": [
            "                                                                                \r"
          ]
        },
        {
          "name": "stdout",
          "output_type": "stream",
          "text": [
            "Column junction_location has 509 rows with a value of -1\n",
            "Column skidding_and_overturning has 1069 rows with a value of -1\n",
            "Column hit_object_in_carriageway has 1216 rows with a value of -1\n",
            "Column vehicle_leaving_carriageway has 1282 rows with a value of -1\n",
            "Column hit_object_off_carriageway has 8 rows with a value of -1\n",
            "Column first_point_of_impact has 1837 rows with a value of -1\n",
            "Column vehicle_left_hand_drive has 1024 rows with a value of -1\n",
            "Column journey_purpose_of_driver has 120 rows with a value of -1\n"
          ]
        },
        {
          "name": "stderr",
          "output_type": "stream",
          "text": [
            "                                                                                \r"
          ]
        },
        {
          "name": "stdout",
          "output_type": "stream",
          "text": [
            "Column sex_of_driver has 27 rows with a value of -1\n",
            "Column age_of_driver has 65576 rows with a value of -1\n",
            "Column age_band_of_driver has 65576 rows with a value of -1\n",
            "Column engine_capacity_cc has 127322 rows with a value of -1\n",
            "Column propulsion_code has 125950 rows with a value of -1\n",
            "Column age_of_vehicle has 126297 rows with a value of -1\n"
          ]
        },
        {
          "name": "stderr",
          "output_type": "stream",
          "text": [
            "                                                                                \r"
          ]
        },
        {
          "name": "stdout",
          "output_type": "stream",
          "text": [
            "Column generic_make_model has 529716 rows with a value of -1\n",
            "Column driver_imd_decile has 119057 rows with a value of -1\n"
          ]
        },
        {
          "name": "stderr",
          "output_type": "stream",
          "text": [
            "\r",
            "[Stage 1080:>                                                       (0 + 8) / 8]\r"
          ]
        },
        {
          "name": "stdout",
          "output_type": "stream",
          "text": [
            "Column driver_home_area_type has 118919 rows with a value of -1\n"
          ]
        },
        {
          "name": "stderr",
          "output_type": "stream",
          "text": [
            "\r",
            "                                                                                \r"
          ]
        }
      ],
      "source": [
        "#drop duplicates\n",
        "vehicle = vehicle.dropDuplicates(['accident_index'])\n",
        "# Check for null values\n",
        "null_cols = [c for c in vehicle.columns if vehicle.filter((col(c).isNull()) | (col(c) == \"NULL\")).count() > 0]\n",
        "print(\"Columns with null values:\", null_cols)\n",
        "\n",
        "#check for NaN values\n",
        "nan_cols = [c for c in vehicle.columns if vehicle.filter(isnan(col(c))).count() > 0]\n",
        "print(\"Columns with NaN values:\", nan_cols)\n",
        "\n",
        "#check for empty or blank strings\n",
        "blank_cols = [c for c in vehicle.columns if vehicle.filter((length(trim(col(c))) == 0)).count() > 0]\n",
        "print(\"Columns with empty or blank strings:\", blank_cols)\n",
        "\n",
        "cols_with_neg1 = []\n",
        "for c in vehicle.columns:\n",
        "    count = vehicle.filter(col(c) == -1).count()\n",
        "    if count > 0:\n",
        "        cols_with_neg1.append(c)\n",
        "        print(f\"Column {c} has {count} rows with a value of -1\")"
      ]
    },
    {
      "cell_type": "code",
      "execution_count": null,
      "id": "c8cc6484",
      "metadata": {
        "id": "c8cc6484",
        "outputId": "4e6fae0f-b305-45c6-cc08-334404776ffe"
      },
      "outputs": [
        {
          "name": "stderr",
          "output_type": "stream",
          "text": [
            "[Stage 32:>                                                         (0 + 8) / 8]\r"
          ]
        },
        {
          "name": "stdout",
          "output_type": "stream",
          "text": [
            "Number of rows deleted with at least one -1 value: 4627\n"
          ]
        },
        {
          "name": "stderr",
          "output_type": "stream",
          "text": [
            "\r",
            "                                                                                \r"
          ]
        }
      ],
      "source": [
        "#drop columns with too many missing values and also irrelevant columns\n",
        "vehicle = vehicle.drop('driver_home_area_type','driver_imd_decile','generic_make_model','age_of_vehicle',\n",
        "                            'propulsion_code','engine_capacity_cc','age_band_of_driver','age_of_driver', 'accident_year',\n",
        "                            'vehicle_direction_to','vehicle_direction_from','accident_reference','vehicle_reference','sex_of_driver')\n",
        "\n",
        "#delete the rows containing -1 (missing values) and print number of rows that were deleted\n",
        "conditions = [col(c) == -1 for c in vehicle.columns]\n",
        "count = vehicle.filter(reduce(lambda x, y: x | y, conditions)).count()\n",
        "accidents2_filtered = vehicle.filter(reduce(lambda x, y: x | y, conditions))\n",
        "print(\"Number of rows deleted with at least one -1 value:\", count)\n",
        "\n",
        "#drop the filtered rows\n",
        "accidents2_filtered = vehicle.subtract(accidents2_filtered)\n",
        "vehicle = accidents2_filtered\n"
      ]
    },
    {
      "cell_type": "code",
      "execution_count": null,
      "id": "79a378b8",
      "metadata": {
        "id": "79a378b8",
        "outputId": "6faa7d7f-f2cb-41c6-e9d8-1a5027321944"
      },
      "outputs": [
        {
          "name": "stdout",
          "output_type": "stream",
          "text": [
            "root\n",
            " |-- accident_index: string (nullable = true)\n",
            " |-- vehicle_type: integer (nullable = true)\n",
            " |-- towing_and_articulation: integer (nullable = true)\n",
            " |-- vehicle_location_restricted_lane: integer (nullable = true)\n",
            " |-- junction_location: integer (nullable = true)\n",
            " |-- skidding_and_overturning: integer (nullable = true)\n",
            " |-- hit_object_in_carriageway: integer (nullable = true)\n",
            " |-- vehicle_leaving_carriageway: integer (nullable = true)\n",
            " |-- hit_object_off_carriageway: integer (nullable = true)\n",
            " |-- first_point_of_impact: integer (nullable = true)\n",
            " |-- vehicle_left_hand_drive: integer (nullable = true)\n",
            " |-- journey_purpose_of_driver: integer (nullable = true)\n",
            "\n"
          ]
        },
        {
          "name": "stderr",
          "output_type": "stream",
          "text": [
            "                                                                                \r"
          ]
        },
        {
          "name": "stdout",
          "output_type": "stream",
          "text": [
            "Number of rows:  593346\n",
            "Number of columns:  12\n"
          ]
        }
      ],
      "source": [
        "vehicle = vehicle.drop('vehicle_manoeuvre')\n",
        "vehicle.printSchema()\n",
        "\n",
        "#get the number of rows\n",
        "num_rows = vehicle.count()\n",
        "\n",
        "#get the number of columns\n",
        "num_cols = len(vehicle.columns)\n",
        "\n",
        "# print the results\n",
        "print(\"Number of rows: \", num_rows)\n",
        "print(\"Number of columns: \", num_cols)\n"
      ]
    },
    {
      "cell_type": "code",
      "execution_count": null,
      "id": "8e907121",
      "metadata": {
        "id": "8e907121",
        "outputId": "6680426b-6bae-471c-d421-e196fcb11c1b"
      },
      "outputs": [
        {
          "name": "stderr",
          "output_type": "stream",
          "text": [
            "                                                                                \r"
          ]
        },
        {
          "name": "stdout",
          "output_type": "stream",
          "text": [
            "root\n",
            " |-- accident_index: string (nullable = true)\n",
            " |-- accident_year: integer (nullable = true)\n",
            " |-- accident_reference: string (nullable = true)\n",
            " |-- location_easting_osgr: string (nullable = true)\n",
            " |-- location_northing_osgr: string (nullable = true)\n",
            " |-- longitude: string (nullable = true)\n",
            " |-- latitude: string (nullable = true)\n",
            " |-- police_force: integer (nullable = true)\n",
            " |-- accident_severity: integer (nullable = true)\n",
            " |-- number_of_vehicles: integer (nullable = true)\n",
            " |-- number_of_casualties: integer (nullable = true)\n",
            " |-- date: string (nullable = true)\n",
            " |-- day_of_week: integer (nullable = true)\n",
            " |-- time: timestamp (nullable = true)\n",
            " |-- local_authority_district: integer (nullable = true)\n",
            " |-- local_authority_ons_district: string (nullable = true)\n",
            " |-- local_authority_highway: string (nullable = true)\n",
            " |-- first_road_class: integer (nullable = true)\n",
            " |-- first_road_number: integer (nullable = true)\n",
            " |-- road_type: integer (nullable = true)\n",
            " |-- speed_limit: string (nullable = true)\n",
            " |-- junction_detail: integer (nullable = true)\n",
            " |-- junction_control: integer (nullable = true)\n",
            " |-- second_road_class: integer (nullable = true)\n",
            " |-- second_road_number: integer (nullable = true)\n",
            " |-- pedestrian_crossing_human_control: integer (nullable = true)\n",
            " |-- pedestrian_crossing_physical_facilities: integer (nullable = true)\n",
            " |-- light_conditions: integer (nullable = true)\n",
            " |-- weather_conditions: integer (nullable = true)\n",
            " |-- road_surface_conditions: integer (nullable = true)\n",
            " |-- special_conditions_at_site: integer (nullable = true)\n",
            " |-- carriageway_hazards: integer (nullable = true)\n",
            " |-- urban_or_rural_area: integer (nullable = true)\n",
            " |-- did_police_officer_attend_scene_of_accident: integer (nullable = true)\n",
            " |-- trunk_road_flag: integer (nullable = true)\n",
            " |-- lsoa_of_accident_location: string (nullable = true)\n",
            "\n",
            "Number of rows:  597973\n",
            "Number of columns:  36\n"
          ]
        }
      ],
      "source": [
        "accidents3 = spark.read.format(\"csv\").option(\"header\", \"true\").load('/Users/meeranair/Documents/Coventry/7153CEM/dft-road-casualty-statistics-accident-last-5-years.csv',header = True, \\\n",
        "                              inferSchema=True).alias(\"accidents3\")\n",
        "\n",
        "accidents3.printSchema()\n",
        "#get the number of rows\n",
        "num_rows = accidents3.count()\n",
        "#get the number of columns\n",
        "num_cols = len(accidents3.columns)\n",
        "print(\"Number of rows: \", num_rows)\n",
        "print(\"Number of columns: \", num_cols)"
      ]
    },
    {
      "cell_type": "code",
      "execution_count": null,
      "id": "1f2e6873",
      "metadata": {
        "id": "1f2e6873"
      },
      "outputs": [],
      "source": [
        "#convert into double type\n",
        "accidents3 = accidents3.withColumn(\"latitude\", col(\"latitude\").cast(\"double\"))\n",
        "accidents3 = accidents3.withColumn(\"longitude\", col(\"longitude\").cast(\"double\"))\n",
        "accidents3 = accidents3.withColumn(\"location_easting_osgr\", col(\"location_easting_osgr\").cast(\"double\"))\n",
        "accidents3 = accidents3.withColumn(\"location_northing_osgr\", col(\"location_northing_osgr\").cast(\"double\"))"
      ]
    },
    {
      "cell_type": "code",
      "execution_count": null,
      "id": "ac3048a7",
      "metadata": {
        "id": "ac3048a7",
        "outputId": "dbf5e9eb-0cbf-4686-80ed-d564883b8e10"
      },
      "outputs": [
        {
          "name": "stdout",
          "output_type": "stream",
          "text": [
            "Correlation between longitude and location_easting_osgr:  0.9998404965212871\n",
            "Correlation between latitude and location_northing_osgr:  0.9993090059436579\n"
          ]
        }
      ],
      "source": [
        "#check correlation of geolocation columns\n",
        "corr_value = accidents3.limit(200).select(corr(\"longitude\", \"location_easting_osgr\")).collect()[0][0]\n",
        "print(\"Correlation between longitude and location_easting_osgr: \", corr_value)\n",
        "\n",
        "corr_value = accidents3.limit(200).select(corr(\"latitude\", \"location_northing_osgr\")).collect()[0][0]\n",
        "print(\"Correlation between latitude and location_northing_osgr: \", corr_value)\n"
      ]
    },
    {
      "cell_type": "code",
      "execution_count": null,
      "id": "964504dd",
      "metadata": {
        "id": "964504dd"
      },
      "outputs": [],
      "source": [
        "#Extract hour from time of accident\n",
        "accidents3 = accidents3.withColumn(\"hour\", date_format(col(\"time\"), \"HH\").cast(\"int\"))\n",
        "#get month ffrom date of accident\n",
        "accidents3 = accidents3.withColumn(\"month\", split(\"date\", \"/\").getItem(1).cast(\"int\"))\n"
      ]
    },
    {
      "cell_type": "code",
      "execution_count": null,
      "id": "635455c1",
      "metadata": {
        "id": "635455c1"
      },
      "outputs": [],
      "source": [
        "#drop the columns whose information has been extracted\n",
        "accidents3 = accidents3.drop('date','time','location_easting_osgr','location_northing_osgr')"
      ]
    },
    {
      "cell_type": "code",
      "execution_count": null,
      "id": "d11109f8",
      "metadata": {
        "id": "d11109f8"
      },
      "outputs": [],
      "source": [
        "#drop duplicates\n",
        "accidents3 = accidents3.dropDuplicates(['accident_index'])"
      ]
    },
    {
      "cell_type": "code",
      "execution_count": null,
      "id": "c9b62df9",
      "metadata": {
        "id": "c9b62df9",
        "outputId": "57826a37-e8ea-4218-869b-4599555d6555"
      },
      "outputs": [
        {
          "name": "stderr",
          "output_type": "stream",
          "text": [
            "                                                                                \r"
          ]
        },
        {
          "name": "stdout",
          "output_type": "stream",
          "text": [
            "Columns with null values: ['longitude', 'latitude', 'speed_limit']\n"
          ]
        },
        {
          "name": "stderr",
          "output_type": "stream",
          "text": [
            "                                                                                \r"
          ]
        },
        {
          "name": "stdout",
          "output_type": "stream",
          "text": [
            "Columns with NaN values: []\n"
          ]
        },
        {
          "name": "stderr",
          "output_type": "stream",
          "text": [
            "                                                                                \r"
          ]
        },
        {
          "name": "stdout",
          "output_type": "stream",
          "text": [
            "Columns with empty or blank strings: []\n"
          ]
        },
        {
          "name": "stderr",
          "output_type": "stream",
          "text": [
            "                                                                                \r"
          ]
        },
        {
          "name": "stdout",
          "output_type": "stream",
          "text": [
            "Column local_authority_district has 991 rows with a value of -1\n"
          ]
        },
        {
          "name": "stderr",
          "output_type": "stream",
          "text": [
            "                                                                                \r"
          ]
        },
        {
          "name": "stdout",
          "output_type": "stream",
          "text": [
            "Column local_authority_highway has 3154 rows with a value of -1\n",
            "Column road_type has 1 rows with a value of -1\n"
          ]
        },
        {
          "name": "stderr",
          "output_type": "stream",
          "text": [
            "                                                                                \r"
          ]
        },
        {
          "name": "stdout",
          "output_type": "stream",
          "text": [
            "Column speed_limit has 92 rows with a value of -1\n",
            "Column junction_detail has 7 rows with a value of -1\n",
            "Column junction_control has 251177 rows with a value of -1\n",
            "Column second_road_class has 212717 rows with a value of -1\n",
            "Column second_road_number has 212773 rows with a value of -1\n",
            "Column pedestrian_crossing_human_control has 743 rows with a value of -1\n",
            "Column pedestrian_crossing_physical_facilities has 694 rows with a value of -1\n",
            "Column light_conditions has 16 rows with a value of -1\n",
            "Column weather_conditions has 34 rows with a value of -1\n",
            "Column road_surface_conditions has 1786 rows with a value of -1\n"
          ]
        },
        {
          "name": "stderr",
          "output_type": "stream",
          "text": [
            "                                                                                \r"
          ]
        },
        {
          "name": "stdout",
          "output_type": "stream",
          "text": [
            "Column special_conditions_at_site has 713 rows with a value of -1\n",
            "Column carriageway_hazards has 747 rows with a value of -1\n",
            "Column urban_or_rural_area has 1 rows with a value of -1\n",
            "Column did_police_officer_attend_scene_of_accident has 3 rows with a value of -1\n",
            "Column trunk_road_flag has 52298 rows with a value of -1\n",
            "Column lsoa_of_accident_location has 31492 rows with a value of -1\n"
          ]
        }
      ],
      "source": [
        "#drop duplicates\n",
        "accidents3 = accidents3.dropDuplicates(['accident_index'])\n",
        "\n",
        "#check for null values\n",
        "null_cols = [c for c in accidents3.columns if accidents3.filter((col(c).isNull()) | (col(c) == \"NULL\")).count() > 0]\n",
        "print(\"Columns with null values:\", null_cols)\n",
        "\n",
        "#check for NaN values\n",
        "nan_cols = [c for c in accidents3.columns if accidents3.filter(isnan(col(c))).count() > 0]\n",
        "print(\"Columns with NaN values:\", nan_cols)\n",
        "\n",
        "#check for empty or blank strings\n",
        "blank_cols = [c for c in accidents3.columns if accidents3.filter((length(trim(col(c))) == 0)).count() > 0]\n",
        "print(\"Columns with empty or blank strings:\", blank_cols)\n",
        "\n",
        "#check for missing values (-1)\n",
        "cols_with_neg1 = []\n",
        "for c in accidents3.columns:\n",
        "    count = accidents3.filter(col(c) == -1).count()\n",
        "    if count > 0:\n",
        "        cols_with_neg1.append(c)\n",
        "        print(f\"Column {c} has {count} rows with a value of -1\")\n"
      ]
    },
    {
      "cell_type": "code",
      "execution_count": null,
      "id": "45ebfae2",
      "metadata": {
        "id": "45ebfae2",
        "outputId": "1f9420eb-cae9-4503-d817-b7fea7443bf0"
      },
      "outputs": [
        {
          "name": "stderr",
          "output_type": "stream",
          "text": [
            "                                                                                \r"
          ]
        },
        {
          "name": "stdout",
          "output_type": "stream",
          "text": [
            "Column 'longitude' has 133 null values.\n",
            "Column 'latitude' has 133 null values.\n",
            "Column 'speed_limit' has 37 null values.\n"
          ]
        }
      ],
      "source": [
        "#get list of columns with null values\n",
        "null_cols = [c for c in accidents3.columns if (accidents3.filter(col(c).isNull()).count() + accidents3.filter(col(c) == \"NULL\").count()) > 0]\n",
        "\n",
        "\n",
        "#count the number of null values in each column\n",
        "for col_name in null_cols:\n",
        "    null_count = accidents3.filter((col(col_name).isNull()) | (col(col_name) == \"NULL\")).count()\n",
        "    print(f\"Column '{col_name}' has {null_count} null values.\")"
      ]
    },
    {
      "cell_type": "code",
      "execution_count": null,
      "id": "f4338142",
      "metadata": {
        "id": "f4338142"
      },
      "outputs": [],
      "source": [
        "#drop NULL values\n",
        "accidents3 = accidents3.replace(\"NULL\", None)\n",
        "accidents3 = accidents3.dropna()"
      ]
    },
    {
      "cell_type": "code",
      "execution_count": null,
      "id": "e6149e33",
      "metadata": {
        "id": "e6149e33",
        "outputId": "d6cefe40-a68d-4458-8a7e-772f68f1b771"
      },
      "outputs": [
        {
          "name": "stderr",
          "output_type": "stream",
          "text": [
            "                                                                                \r"
          ]
        },
        {
          "name": "stdout",
          "output_type": "stream",
          "text": [
            "Number of rows deleted with at least one -1 value: 6820\n"
          ]
        }
      ],
      "source": [
        "#drop columns with too many missing values\n",
        "accidents3 = accidents3.drop('lsoa_of_accident_location','trunk_road_flag','second_road_number','second_road_class',\n",
        "                             'junction_control')\n",
        "\n",
        "\n",
        "#delete the rows containing -1 (missing values) and print number of rows that were deleted\n",
        "conditions = [col(c) == -1 for c in accidents3.columns]\n",
        "count = accidents3.filter(reduce(lambda x, y: x | y, conditions)).count()\n",
        "accidents3_filtered = accidents3.filter(reduce(lambda x, y: x | y, conditions))\n",
        "print(\"Number of rows deleted with at least one -1 value:\", count)\n",
        "\n",
        "#drop the filtered rows\n",
        "accidents3_filtered = accidents3.subtract(accidents3_filtered)\n",
        "accidents3 = accidents3_filtered\n",
        "\n"
      ]
    },
    {
      "cell_type": "markdown",
      "id": "9c60f420",
      "metadata": {
        "id": "9c60f420"
      },
      "source": [
        "<font size =5> Replace latitude and longitude to avg distance from the mean location </font>"
      ]
    },
    {
      "cell_type": "code",
      "execution_count": null,
      "id": "ebad3d7c",
      "metadata": {
        "id": "ebad3d7c",
        "outputId": "00cd7fd6-163e-4ae8-b9d9-08afc9f2bb05"
      },
      "outputs": [
        {
          "name": "stderr",
          "output_type": "stream",
          "text": [
            "                                                                                \r"
          ]
        }
      ],
      "source": [
        "#calculate the mean of the latitude and longitude columns\n",
        "center_lat, center_lon = accidents3.agg(mean(\"latitude\"), mean(\"longitude\")).first()\n",
        "\n",
        "#define the UDF to calculate distance\n",
        "def calculate_distance(lat, lon):\n",
        "    return great_circle((lat, lon), (center_lat, center_lon)).kilometers\n",
        "\n",
        "distance_udf = udf(calculate_distance, DoubleType())\n",
        "\n",
        "#apply the UDF to create a new column called \"distance_km\"\n",
        "accidents3 = accidents3.withColumn(\"distance_km\", distance_udf(col(\"latitude\"), col(\"longitude\")))\n",
        "\n",
        "#drop latitude and longitude\n",
        "accidents3 = accidents3.drop('latitude','longitude')"
      ]
    },
    {
      "cell_type": "code",
      "execution_count": null,
      "id": "27678b25",
      "metadata": {
        "id": "27678b25",
        "outputId": "f24577ee-9b6d-458b-b57b-f8b9afbf9311"
      },
      "outputs": [
        {
          "name": "stdout",
          "output_type": "stream",
          "text": [
            "root\n",
            " |-- accident_index: string (nullable = true)\n",
            " |-- accident_year: integer (nullable = true)\n",
            " |-- accident_reference: string (nullable = true)\n",
            " |-- police_force: integer (nullable = true)\n",
            " |-- accident_severity: integer (nullable = true)\n",
            " |-- number_of_vehicles: integer (nullable = true)\n",
            " |-- number_of_casualties: integer (nullable = true)\n",
            " |-- day_of_week: integer (nullable = true)\n",
            " |-- local_authority_district: integer (nullable = true)\n",
            " |-- local_authority_ons_district: string (nullable = true)\n",
            " |-- local_authority_highway: string (nullable = true)\n",
            " |-- first_road_class: integer (nullable = true)\n",
            " |-- first_road_number: integer (nullable = true)\n",
            " |-- road_type: integer (nullable = true)\n",
            " |-- speed_limit: string (nullable = true)\n",
            " |-- junction_detail: integer (nullable = true)\n",
            " |-- pedestrian_crossing_human_control: integer (nullable = true)\n",
            " |-- pedestrian_crossing_physical_facilities: integer (nullable = true)\n",
            " |-- light_conditions: integer (nullable = true)\n",
            " |-- weather_conditions: integer (nullable = true)\n",
            " |-- road_surface_conditions: integer (nullable = true)\n",
            " |-- special_conditions_at_site: integer (nullable = true)\n",
            " |-- carriageway_hazards: integer (nullable = true)\n",
            " |-- urban_or_rural_area: integer (nullable = true)\n",
            " |-- did_police_officer_attend_scene_of_accident: integer (nullable = true)\n",
            " |-- hour: integer (nullable = true)\n",
            " |-- month: integer (nullable = true)\n",
            " |-- distance_km: double (nullable = true)\n",
            "\n"
          ]
        }
      ],
      "source": [
        "accidents3.printSchema()"
      ]
    },
    {
      "cell_type": "code",
      "execution_count": null,
      "id": "567a240f",
      "metadata": {
        "id": "567a240f"
      },
      "outputs": [],
      "source": [
        "accidents3 = accidents3.withColumn(\"road_type_limit\", \\\n",
        "                                        when(col(\"speed_limit\") == 70, \"motorway/dual_carriageway\") \\\n",
        "                                        .when(col(\"speed_limit\") == 60, \"single_carriageway_(60mph)\") \\\n",
        "                                        .when(col(\"speed_limit\") == 50, \"single_carriageway_(50mph)\") \\\n",
        "                                        .when(col(\"speed_limit\") == 40, \"urban_road\") \\\n",
        "                                        .when(col(\"speed_limit\") == 30, \"urban_road\") \\\n",
        "                                        .when(col(\"speed_limit\") == 20, \"urban_road\") \\\n",
        "                                        .otherwise(\"other\"))\n",
        "\n",
        "\n",
        "accidents3 = accidents3.drop('speed_limit')"
      ]
    },
    {
      "cell_type": "code",
      "execution_count": null,
      "id": "4fef83db",
      "metadata": {
        "id": "4fef83db",
        "outputId": "981701b1-688d-4a6d-d4ae-4456e4253dcc"
      },
      "outputs": [
        {
          "name": "stdout",
          "output_type": "stream",
          "text": [
            "root\n",
            " |-- accident_index: string (nullable = true)\n",
            " |-- police_force: integer (nullable = true)\n",
            " |-- accident_severity: integer (nullable = true)\n",
            " |-- number_of_vehicles: integer (nullable = true)\n",
            " |-- number_of_casualties: integer (nullable = true)\n",
            " |-- day_of_week: integer (nullable = true)\n",
            " |-- local_authority_district: integer (nullable = true)\n",
            " |-- local_authority_highway: string (nullable = true)\n",
            " |-- first_road_class: integer (nullable = true)\n",
            " |-- first_road_number: integer (nullable = true)\n",
            " |-- road_type: integer (nullable = true)\n",
            " |-- junction_detail: integer (nullable = true)\n",
            " |-- pedestrian_crossing_human_control: integer (nullable = true)\n",
            " |-- pedestrian_crossing_physical_facilities: integer (nullable = true)\n",
            " |-- light_conditions: integer (nullable = true)\n",
            " |-- weather_conditions: integer (nullable = true)\n",
            " |-- road_surface_conditions: integer (nullable = true)\n",
            " |-- special_conditions_at_site: integer (nullable = true)\n",
            " |-- carriageway_hazards: integer (nullable = true)\n",
            " |-- urban_or_rural_area: integer (nullable = true)\n",
            " |-- did_police_officer_attend_scene_of_accident: integer (nullable = true)\n",
            " |-- hour: integer (nullable = true)\n",
            " |-- month: integer (nullable = true)\n",
            " |-- distance_km: double (nullable = true)\n",
            " |-- road_type_limit: string (nullable = false)\n",
            "\n"
          ]
        },
        {
          "name": "stderr",
          "output_type": "stream",
          "text": [
            "[Stage 89:==================================================>       (7 + 1) / 8]\r"
          ]
        },
        {
          "name": "stdout",
          "output_type": "stream",
          "text": [
            "Number of rows:  590983\n",
            "Number of columns:  25\n"
          ]
        },
        {
          "name": "stderr",
          "output_type": "stream",
          "text": [
            "\r",
            "[Stage 93:===================================================>      (8 + 1) / 9]\r",
            "\r",
            "                                                                                \r"
          ]
        }
      ],
      "source": [
        "accidents3 =  accidents3.drop('local_authority_ons_district','speed_limit','accident_reference','accident_year')\n",
        "\n",
        "accidents3.printSchema()\n",
        "\n",
        "#get the number of rows\n",
        "num_rows = accidents3.count()\n",
        "\n",
        "#get the number of columns\n",
        "num_cols = len(accidents3.columns)\n",
        "\n",
        "#print the results\n",
        "print(\"Number of rows: \", num_rows)\n",
        "print(\"Number of columns: \", num_cols)\n",
        "\n"
      ]
    },
    {
      "cell_type": "code",
      "execution_count": null,
      "id": "429499df",
      "metadata": {
        "id": "429499df"
      },
      "outputs": [],
      "source": [
        "#merge the datasets\n",
        "accidents_uk = casualty.join(vehicle, \"accident_index\", how='inner').join(accidents3, \"accident_index\", how='inner')\n"
      ]
    },
    {
      "cell_type": "code",
      "execution_count": null,
      "id": "83fa3213",
      "metadata": {
        "id": "83fa3213",
        "outputId": "97153eec-d31c-4117-fb0b-b1703ccff6b7"
      },
      "outputs": [
        {
          "name": "stderr",
          "output_type": "stream",
          "text": [
            "                                                                                \r"
          ]
        }
      ],
      "source": [
        "#check for missing values\n",
        "cols_with_neg1 = []\n",
        "for c in accidents_uk.columns:\n",
        "    count = accidents_uk.filter(col(c) == -1).count()\n",
        "    if count > 0:\n",
        "        cols_with_neg1.append(c)\n",
        "        print(f\"Column {c} has {count} rows with a value of -1\")"
      ]
    },
    {
      "cell_type": "code",
      "execution_count": null,
      "id": "aa05b8b6",
      "metadata": {
        "id": "aa05b8b6",
        "outputId": "cd46ff0d-c3c3-418e-cb14-3696e037283e"
      },
      "outputs": [
        {
          "name": "stderr",
          "output_type": "stream",
          "text": [
            "                                                                                \r"
          ]
        },
        {
          "name": "stdout",
          "output_type": "stream",
          "text": [
            "Columns with null values: []\n"
          ]
        },
        {
          "name": "stderr",
          "output_type": "stream",
          "text": [
            "                                                                                \r"
          ]
        },
        {
          "name": "stdout",
          "output_type": "stream",
          "text": [
            "Columns with NaN values: []\n"
          ]
        },
        {
          "name": "stderr",
          "output_type": "stream",
          "text": [
            "[Stage 7604:> (0 + 8) / 9][Stage 7607:> (0 + 0) / 1][Stage 7610:> (0 + 0) / 1]9]\r"
          ]
        },
        {
          "name": "stdout",
          "output_type": "stream",
          "text": [
            "Columns with empty or blank strings: []\n"
          ]
        },
        {
          "name": "stderr",
          "output_type": "stream",
          "text": [
            "\r",
            "[Stage 7604:> (1 + 8) / 9][Stage 7607:> (0 + 0) / 1][Stage 7610:> (0 + 0) / 1]\r",
            "\r",
            "                                                                                \r"
          ]
        }
      ],
      "source": [
        "#check for null values\n",
        "null_cols = [c for c in accidents_uk.columns if accidents_uk.filter((col(c).isNull()) | (col(c) == \"NULL\")).count() > 0]\n",
        "\n",
        "print(\"Columns with null values:\", null_cols)\n",
        "\n",
        "#check for NaN values\n",
        "nan_cols = [c for c in accidents_uk.columns if accidents_uk.filter(isnan(col(c))).count() > 0]\n",
        "print(\"Columns with NaN values:\", nan_cols)\n",
        "\n",
        "#check for empty or blank strings\n",
        "blank_cols = [c for c in accidents_uk.columns if accidents_uk.filter((length(trim(col(c))) == 0)).count() > 0]\n",
        "print(\"Columns with empty or blank strings:\", blank_cols)"
      ]
    },
    {
      "cell_type": "code",
      "execution_count": null,
      "id": "7133f496",
      "metadata": {
        "id": "7133f496",
        "outputId": "9ba31b5a-a6d9-4a1e-db73-19efda7e74f3"
      },
      "outputs": [
        {
          "name": "stderr",
          "output_type": "stream",
          "text": [
            "[Stage 146:>                                                        (0 + 8) / 8]\r"
          ]
        },
        {
          "name": "stdout",
          "output_type": "stream",
          "text": [
            "Accidents_uk has 586216 rows and 41 columns.\n"
          ]
        },
        {
          "name": "stderr",
          "output_type": "stream",
          "text": [
            "\r",
            "[Stage 146:=================================================>       (7 + 1) / 8]\r",
            "\r",
            "                                                                                \r"
          ]
        }
      ],
      "source": [
        "accidents_uk = accidents_uk.drop('accident_index')\n",
        "\n",
        "#find the size of the DataFrame\n",
        "num_rows = accidents_uk.count()\n",
        "num_cols = len(accidents_uk.columns)\n",
        "\n",
        "#print the size of the DataFrame\n",
        "print(f\"Accidents_uk has {num_rows} rows and {num_cols} columns.\")"
      ]
    },
    {
      "cell_type": "code",
      "execution_count": null,
      "id": "9eab28a6",
      "metadata": {
        "id": "9eab28a6",
        "outputId": "588b7f87-2b27-442b-9010-aa5ebb15e086"
      },
      "outputs": [
        {
          "name": "stdout",
          "output_type": "stream",
          "text": [
            "root\n",
            " |-- casualty_class: integer (nullable = true)\n",
            " |-- casualty_severity: integer (nullable = true)\n",
            " |-- car_passenger: integer (nullable = true)\n",
            " |-- bus_or_coach_passenger: integer (nullable = true)\n",
            " |-- pedestrian_road_maintenance_worker: integer (nullable = true)\n",
            " |-- casualty_type: integer (nullable = true)\n",
            " |-- vehicle_type: integer (nullable = true)\n",
            " |-- towing_and_articulation: integer (nullable = true)\n",
            " |-- vehicle_location_restricted_lane: integer (nullable = true)\n",
            " |-- junction_location: integer (nullable = true)\n",
            " |-- skidding_and_overturning: integer (nullable = true)\n",
            " |-- hit_object_in_carriageway: integer (nullable = true)\n",
            " |-- vehicle_leaving_carriageway: integer (nullable = true)\n",
            " |-- hit_object_off_carriageway: integer (nullable = true)\n",
            " |-- first_point_of_impact: integer (nullable = true)\n",
            " |-- vehicle_left_hand_drive: integer (nullable = true)\n",
            " |-- journey_purpose_of_driver: integer (nullable = true)\n",
            " |-- police_force: integer (nullable = true)\n",
            " |-- accident_severity: integer (nullable = true)\n",
            " |-- number_of_vehicles: integer (nullable = true)\n",
            " |-- number_of_casualties: integer (nullable = true)\n",
            " |-- day_of_week: integer (nullable = true)\n",
            " |-- local_authority_district: integer (nullable = true)\n",
            " |-- local_authority_highway: string (nullable = true)\n",
            " |-- first_road_class: integer (nullable = true)\n",
            " |-- first_road_number: integer (nullable = true)\n",
            " |-- road_type: integer (nullable = true)\n",
            " |-- junction_detail: integer (nullable = true)\n",
            " |-- pedestrian_crossing_human_control: integer (nullable = true)\n",
            " |-- pedestrian_crossing_physical_facilities: integer (nullable = true)\n",
            " |-- light_conditions: integer (nullable = true)\n",
            " |-- weather_conditions: integer (nullable = true)\n",
            " |-- road_surface_conditions: integer (nullable = true)\n",
            " |-- special_conditions_at_site: integer (nullable = true)\n",
            " |-- carriageway_hazards: integer (nullable = true)\n",
            " |-- urban_or_rural_area: integer (nullable = true)\n",
            " |-- did_police_officer_attend_scene_of_accident: integer (nullable = true)\n",
            " |-- hour: integer (nullable = true)\n",
            " |-- month: integer (nullable = true)\n",
            " |-- distance_km: double (nullable = true)\n",
            " |-- road_type_limit: string (nullable = false)\n",
            "\n"
          ]
        }
      ],
      "source": [
        "accidents_uk.printSchema()"
      ]
    },
    {
      "cell_type": "code",
      "execution_count": null,
      "id": "af6ccad8",
      "metadata": {
        "id": "af6ccad8",
        "outputId": "e38039fb-1480-437a-bae1-3c7b7d2443c9"
      },
      "outputs": [
        {
          "name": "stderr",
          "output_type": "stream",
          "text": [
            "[Stage 202:>                                                        (0 + 8) / 8]\r"
          ]
        },
        {
          "name": "stdout",
          "output_type": "stream",
          "text": [
            "+-----------------+------+\n",
            "|accident_severity| count|\n",
            "+-----------------+------+\n",
            "|                1|  7951|\n",
            "|                3|471834|\n",
            "|                2|106431|\n",
            "+-----------------+------+\n",
            "\n"
          ]
        },
        {
          "name": "stderr",
          "output_type": "stream",
          "text": [
            "\r",
            "                                                                                \r"
          ]
        }
      ],
      "source": [
        "from pyspark.sql.functions import count\n",
        "severity_counts = accidents_uk.groupBy('accident_severity').agg(count('*').alias('count'))\n",
        "severity_counts.show()"
      ]
    },
    {
      "cell_type": "code",
      "execution_count": null,
      "id": "7a076f95",
      "metadata": {
        "id": "7a076f95",
        "outputId": "7cdb99a9-c060-4035-d711-a2f568745ee1"
      },
      "outputs": [
        {
          "name": "stderr",
          "output_type": "stream",
          "text": [
            "[Stage 258:>                                                        (0 + 8) / 8]\r"
          ]
        },
        {
          "name": "stdout",
          "output_type": "stream",
          "text": [
            "+-----------------+-----+\n",
            "|accident_severity|count|\n",
            "+-----------------+-----+\n",
            "|                1| 7951|\n",
            "|                3|16733|\n",
            "|                2|15964|\n",
            "+-----------------+-----+\n",
            "\n"
          ]
        },
        {
          "name": "stderr",
          "output_type": "stream",
          "text": [
            "\r",
            "                                                                                \r"
          ]
        }
      ],
      "source": [
        "fractions = {1: 1, 2: .15, 3: 0.035}\n",
        "downsampled_df = accidents_uk.sampleBy(\"accident_severity\", fractions=fractions, seed=42)\n",
        "\n",
        "#group by the column and count the number of occurrences of each value\n",
        "counts = downsampled_df.groupBy('accident_severity').agg(count('*').alias('count'))\n",
        "\n",
        "#show the results\n",
        "counts.show()\n"
      ]
    },
    {
      "cell_type": "code",
      "execution_count": null,
      "id": "a83302b9",
      "metadata": {
        "id": "a83302b9",
        "outputId": "45e83166-c704-4ce6-8204-dea238035356"
      },
      "outputs": [
        {
          "name": "stdout",
          "output_type": "stream",
          "text": [
            "root\n",
            " |-- casualty_class: integer (nullable = true)\n",
            " |-- casualty_severity: integer (nullable = true)\n",
            " |-- car_passenger: integer (nullable = true)\n",
            " |-- bus_or_coach_passenger: integer (nullable = true)\n",
            " |-- pedestrian_road_maintenance_worker: integer (nullable = true)\n",
            " |-- casualty_type: integer (nullable = true)\n",
            " |-- vehicle_type: integer (nullable = true)\n",
            " |-- towing_and_articulation: integer (nullable = true)\n",
            " |-- vehicle_location_restricted_lane: integer (nullable = true)\n",
            " |-- junction_location: integer (nullable = true)\n",
            " |-- skidding_and_overturning: integer (nullable = true)\n",
            " |-- hit_object_in_carriageway: integer (nullable = true)\n",
            " |-- vehicle_leaving_carriageway: integer (nullable = true)\n",
            " |-- hit_object_off_carriageway: integer (nullable = true)\n",
            " |-- first_point_of_impact: integer (nullable = true)\n",
            " |-- vehicle_left_hand_drive: integer (nullable = true)\n",
            " |-- journey_purpose_of_driver: integer (nullable = true)\n",
            " |-- police_force: integer (nullable = true)\n",
            " |-- accident_severity: integer (nullable = true)\n",
            " |-- number_of_vehicles: integer (nullable = true)\n",
            " |-- number_of_casualties: integer (nullable = true)\n",
            " |-- day_of_week: integer (nullable = true)\n",
            " |-- local_authority_district: integer (nullable = true)\n",
            " |-- local_authority_highway: string (nullable = true)\n",
            " |-- first_road_class: integer (nullable = true)\n",
            " |-- first_road_number: integer (nullable = true)\n",
            " |-- road_type: integer (nullable = true)\n",
            " |-- junction_detail: integer (nullable = true)\n",
            " |-- pedestrian_crossing_human_control: integer (nullable = true)\n",
            " |-- pedestrian_crossing_physical_facilities: integer (nullable = true)\n",
            " |-- light_conditions: integer (nullable = true)\n",
            " |-- weather_conditions: integer (nullable = true)\n",
            " |-- road_surface_conditions: integer (nullable = true)\n",
            " |-- special_conditions_at_site: integer (nullable = true)\n",
            " |-- carriageway_hazards: integer (nullable = true)\n",
            " |-- urban_or_rural_area: integer (nullable = true)\n",
            " |-- did_police_officer_attend_scene_of_accident: integer (nullable = true)\n",
            " |-- hour: integer (nullable = true)\n",
            " |-- month: integer (nullable = true)\n",
            " |-- distance_km: double (nullable = true)\n",
            " |-- road_type_limit: string (nullable = false)\n",
            "\n"
          ]
        }
      ],
      "source": [
        "downsampled_df.printSchema()"
      ]
    },
    {
      "cell_type": "code",
      "execution_count": null,
      "id": "7975cba9",
      "metadata": {
        "id": "7975cba9",
        "outputId": "7549e2b9-17f9-4025-d3bc-99d32032db3f"
      },
      "outputs": [
        {
          "name": "stderr",
          "output_type": "stream",
          "text": [
            "                                                                                \r"
          ]
        },
        {
          "name": "stdout",
          "output_type": "stream",
          "text": [
            "Number of unique values for column 'road_type_limit': 4\n"
          ]
        },
        {
          "name": "stderr",
          "output_type": "stream",
          "text": [
            "[Stage 519:>                                                        (0 + 8) / 8]\r"
          ]
        },
        {
          "name": "stdout",
          "output_type": "stream",
          "text": [
            "Number of unique values for column 'local_authority_highway': 206\n"
          ]
        },
        {
          "name": "stderr",
          "output_type": "stream",
          "text": [
            "\r",
            "                                                                                \r"
          ]
        }
      ],
      "source": [
        "unique_values = downsampled_df.select('road_type_limit').distinct().count()\n",
        "print(\"Number of unique values for column 'road_type_limit':\", unique_values)\n",
        "\n",
        "unique_values = downsampled_df.select('local_authority_highway').distinct().count()\n",
        "print(\"Number of unique values for column 'local_authority_highway':\", unique_values)\n"
      ]
    },
    {
      "cell_type": "code",
      "execution_count": null,
      "id": "1f267278",
      "metadata": {
        "id": "1f267278"
      },
      "outputs": [],
      "source": [
        "acc_train, acc_test = downsampled_df.randomSplit([0.7,0.3],seed=10)\n"
      ]
    },
    {
      "cell_type": "code",
      "execution_count": null,
      "id": "16ddc6e9",
      "metadata": {
        "id": "16ddc6e9"
      },
      "outputs": [],
      "source": [
        "#define the stages of the pipeline\n",
        "\n",
        "#encoding categorical features and feature selection\n",
        "indexer = StringIndexer(inputCols=('local_authority_highway','road_type_limit'),\n",
        "                         outputCols=('local_authority_highway_idx','road_type_limit_idx'),\n",
        "                         handleInvalid='keep')\n",
        "\n",
        "onehot = OneHotEncoder(inputCols=('local_authority_highway_idx','road_type_limit_idx'),\n",
        "                       outputCols=('local_authority_highway_idx_en','road_type_limit_en'))\n",
        "\n",
        "assembler = VectorAssembler(inputCols=['local_authority_highway_idx_en','road_type_limit_en'], outputCol='encoded_features')\n",
        "\n",
        "selector = ChiSqSelector(numTopFeatures=10, featuresCol=\"encoded_features\",\n",
        "                         outputCol=\"selected_features\", labelCol=\"accident_severity\")\n",
        "\n",
        "\n",
        "\n",
        "numeric_cols = [col for col in downsampled_df.columns if col not in\n",
        "                ['accident_severity', 'local_authority_highway', 'local_authority_highway_idx','road_type_limit',\n",
        "                 'road_type_limit_idx','local_authority_highway_idx_en','local_authority_highway_idx_en']]\n",
        "\n",
        "\n",
        "assembler2 = VectorAssembler(inputCols=numeric_cols+['selected_features'], outputCol=\"assembled_features\")\n",
        "\n",
        "\n",
        "classifier = DecisionTreeClassifier(featuresCol='assembled_features', labelCol='accident_severity')\n",
        "\n",
        "\n",
        "#define the pipeline\n",
        "pipeline = Pipeline(stages=[indexer, onehot, assembler, selector, assembler2, classifier])\n",
        "\n",
        "\n",
        "#define the parameter grid\n",
        "param_grid = ParamGridBuilder() \\\n",
        "             .addGrid(classifier.maxDepth, [10, 15, 20]) \\\n",
        "             .addGrid(classifier.maxBins, [10,20,30]) \\\n",
        "             .addGrid(classifier.impurity, ['entropy', 'gini']) \\\n",
        "             .build()\n",
        "\n",
        "#define the cross validator\n",
        "cv = CrossValidator(estimator=pipeline,\n",
        "                    estimatorParamMaps=param_grid,\n",
        "                    evaluator=MulticlassClassificationEvaluator(labelCol='accident_severity'),\n",
        "                    numFolds=3)"
      ]
    },
    {
      "cell_type": "code",
      "execution_count": null,
      "id": "d2942ef4",
      "metadata": {
        "id": "d2942ef4",
        "outputId": "d8dedae9-ddc0-4602-8509-b912b0848d4e"
      },
      "outputs": [
        {
          "name": "stderr",
          "output_type": "stream",
          "text": [
            "                                                                                00]]\r"
          ]
        }
      ],
      "source": [
        "acc_train, acc_test = downsampled_df.randomSplit([0.7,0.3],seed=10)\n",
        "\n",
        "#fit the pipeline with cross validator\n",
        "cv_pipeline = cv.fit(acc_train)\n"
      ]
    },
    {
      "cell_type": "code",
      "execution_count": null,
      "id": "39f29c77",
      "metadata": {
        "id": "39f29c77",
        "outputId": "bd603188-4e50-4cc0-a585-22d4b5f473e8"
      },
      "outputs": [
        {
          "name": "stderr",
          "output_type": "stream",
          "text": [
            "                                                                                \r"
          ]
        },
        {
          "name": "stdout",
          "output_type": "stream",
          "text": [
            "Accuracy: 0.932994\n",
            "F1 Score: 0.932697\n"
          ]
        },
        {
          "name": "stderr",
          "output_type": "stream",
          "text": [
            "[Stage 25847:================================================>      (8 + 1) / 9]\r"
          ]
        },
        {
          "name": "stdout",
          "output_type": "stream",
          "text": [
            "23/04/16 23:17:20 WARN RowBasedKeyValueBatch: Calling spill() on RowBasedKeyValueBatch. Will not spill but return 0.\n",
            "23/04/16 23:17:20 WARN RowBasedKeyValueBatch: Calling spill() on RowBasedKeyValueBatch. Will not spill but return 0.\n",
            "23/04/16 23:17:20 WARN RowBasedKeyValueBatch: Calling spill() on RowBasedKeyValueBatch. Will not spill but return 0.\n",
            "23/04/16 23:17:20 WARN RowBasedKeyValueBatch: Calling spill() on RowBasedKeyValueBatch. Will not spill but return 0.\n",
            "23/04/16 23:17:20 WARN RowBasedKeyValueBatch: Calling spill() on RowBasedKeyValueBatch. Will not spill but return 0.\n",
            "23/04/16 23:17:20 WARN RowBasedKeyValueBatch: Calling spill() on RowBasedKeyValueBatch. Will not spill but return 0.\n",
            "23/04/16 23:17:20 WARN RowBasedKeyValueBatch: Calling spill() on RowBasedKeyValueBatch. Will not spill but return 0.\n",
            "23/04/16 23:17:20 WARN RowBasedKeyValueBatch: Calling spill() on RowBasedKeyValueBatch. Will not spill but return 0.\n"
          ]
        },
        {
          "name": "stderr",
          "output_type": "stream",
          "text": [
            "[Stage 25858:================================================>      (8 + 1) / 9]\r"
          ]
        },
        {
          "name": "stdout",
          "output_type": "stream",
          "text": [
            "+-----------------+----+----+----+\n",
            "|accident_severity|   1|   2|   3|\n",
            "+-----------------+----+----+----+\n",
            "|                1|2112| 160| 100|\n",
            "|                3|  42|  88|4931|\n",
            "|                2|  97|4333| 330|\n",
            "+-----------------+----+----+----+\n",
            "\n"
          ]
        },
        {
          "name": "stderr",
          "output_type": "stream",
          "text": [
            "\r",
            "                                                                                \r"
          ]
        }
      ],
      "source": [
        "#transform the data using the pipeline\n",
        "predictions = cv_pipeline.transform(acc_test)\n",
        "accuracy_evaluator = MulticlassClassificationEvaluator(labelCol='accident_severity', metricName='accuracy')\n",
        "f1_evaluator = MulticlassClassificationEvaluator(labelCol='accident_severity', metricName='f1')\n",
        "accuracy = accuracy_evaluator.evaluate(predictions)\n",
        "f1_score = f1_evaluator.evaluate(predictions)\n",
        "print(\"Accuracy: %f\" % accuracy)\n",
        "print(\"F1 Score: %f\" % f1_score)\n",
        "\n",
        "# Show the confusion matrix\n",
        "conf_matrix = predictions.groupBy('accident_severity').pivot('prediction', [1,2,3]).count().na.fill(0)\n",
        "conf_matrix.show()\n",
        "\n",
        "\n"
      ]
    },
    {
      "cell_type": "code",
      "execution_count": null,
      "id": "3a63386c",
      "metadata": {
        "id": "3a63386c",
        "outputId": "f789737f-93b1-4d4d-a00e-1f673fef3bde"
      },
      "outputs": [
        {
          "name": "stderr",
          "output_type": "stream",
          "text": [
            "                                                                                \r"
          ]
        },
        {
          "data": {
            "image/png": "[encoded data removed]",
            "text/plain": [
              "<Figure size 640x480 with 2 Axes>"
            ]
          },
          "metadata": {},
          "output_type": "display_data"
        }
      ],
      "source": [
        "import matplotlib.pyplot as plt\n",
        "import seaborn as sns\n",
        "from sklearn.metrics import confusion_matrix\n",
        "\n",
        "y_pred = predictions.select('prediction').toPandas()['prediction'].values\n",
        "y_true = predictions.select('accident_severity').toPandas()['accident_severity'].values\n",
        "\n",
        "# confusion matrix\n",
        "cm = confusion_matrix(y_true, y_pred)\n",
        "sns.heatmap(cm, annot=True, cmap=\"Blues\", fmt=\"d\", xticklabels=[1,2,3], yticklabels=[1,2,3])\n",
        "plt.xlabel(\"Predicted Labels\")\n",
        "plt.ylabel(\"True Labels\")\n",
        "plt.show()\n"
      ]
    },
    {
      "cell_type": "code",
      "execution_count": null,
      "id": "3b7fe5d0",
      "metadata": {
        "id": "3b7fe5d0",
        "outputId": "dff107b4-120c-4fea-e348-e5e158d18e59"
      },
      "outputs": [
        {
          "name": "stderr",
          "output_type": "stream",
          "text": [
            "[Stage 25923:================================================>      (8 + 1) / 9]\r"
          ]
        },
        {
          "name": "stdout",
          "output_type": "stream",
          "text": [
            "23/04/16 23:18:12 WARN RowBasedKeyValueBatch: Calling spill() on RowBasedKeyValueBatch. Will not spill but return 0.\n",
            "23/04/16 23:18:12 WARN RowBasedKeyValueBatch: Calling spill() on RowBasedKeyValueBatch. Will not spill but return 0.\n",
            "23/04/16 23:18:12 WARN RowBasedKeyValueBatch: Calling spill() on RowBasedKeyValueBatch. Will not spill but return 0.\n",
            "23/04/16 23:18:12 WARN RowBasedKeyValueBatch: Calling spill() on RowBasedKeyValueBatch. Will not spill but return 0.\n",
            "23/04/16 23:18:12 WARN RowBasedKeyValueBatch: Calling spill() on RowBasedKeyValueBatch. Will not spill but return 0.\n",
            "23/04/16 23:18:12 WARN RowBasedKeyValueBatch: Calling spill() on RowBasedKeyValueBatch. Will not spill but return 0.\n",
            "23/04/16 23:18:12 WARN RowBasedKeyValueBatch: Calling spill() on RowBasedKeyValueBatch. Will not spill but return 0.\n",
            "23/04/16 23:18:12 WARN RowBasedKeyValueBatch: Calling spill() on RowBasedKeyValueBatch. Will not spill but return 0.\n"
          ]
        },
        {
          "name": "stderr",
          "output_type": "stream",
          "text": [
            "[Stage 26010:>                                                      (0 + 8) / 9]\r"
          ]
        },
        {
          "name": "stdout",
          "output_type": "stream",
          "text": [
            "23/04/16 23:18:45 WARN RowBasedKeyValueBatch: Calling spill() on RowBasedKeyValueBatch. Will not spill but return 0.\n",
            "23/04/16 23:18:45 WARN RowBasedKeyValueBatch: Calling spill() on RowBasedKeyValueBatch. Will not spill but return 0.\n",
            "23/04/16 23:18:45 WARN RowBasedKeyValueBatch: Calling spill() on RowBasedKeyValueBatch. Will not spill but return 0.\n",
            "23/04/16 23:18:45 WARN RowBasedKeyValueBatch: Calling spill() on RowBasedKeyValueBatch. Will not spill but return 0.\n",
            "23/04/16 23:18:45 WARN RowBasedKeyValueBatch: Calling spill() on RowBasedKeyValueBatch. Will not spill but return 0.\n",
            "23/04/16 23:18:45 WARN RowBasedKeyValueBatch: Calling spill() on RowBasedKeyValueBatch. Will not spill but return 0.\n",
            "23/04/16 23:18:45 WARN RowBasedKeyValueBatch: Calling spill() on RowBasedKeyValueBatch. Will not spill but return 0.\n",
            "23/04/16 23:18:45 WARN RowBasedKeyValueBatch: Calling spill() on RowBasedKeyValueBatch. Will not spill but return 0.\n"
          ]
        },
        {
          "name": "stderr",
          "output_type": "stream",
          "text": [
            "[Stage 26075:================================================>      (8 + 1) / 9]\r"
          ]
        },
        {
          "name": "stdout",
          "output_type": "stream",
          "text": [
            "23/04/16 23:19:25 WARN RowBasedKeyValueBatch: Calling spill() on RowBasedKeyValueBatch. Will not spill but return 0.\n"
          ]
        },
        {
          "name": "stderr",
          "output_type": "stream",
          "text": [
            "\r",
            "[Stage 26086:>                                                      (0 + 8) / 9]\r"
          ]
        },
        {
          "name": "stdout",
          "output_type": "stream",
          "text": [
            "23/04/16 23:19:25 WARN RowBasedKeyValueBatch: Calling spill() on RowBasedKeyValueBatch. Will not spill but return 0.\n",
            "23/04/16 23:19:25 WARN RowBasedKeyValueBatch: Calling spill() on RowBasedKeyValueBatch. Will not spill but return 0.\n",
            "23/04/16 23:19:25 WARN RowBasedKeyValueBatch: Calling spill() on RowBasedKeyValueBatch. Will not spill but return 0.\n",
            "23/04/16 23:19:25 WARN RowBasedKeyValueBatch: Calling spill() on RowBasedKeyValueBatch. Will not spill but return 0.\n",
            "23/04/16 23:19:25 WARN RowBasedKeyValueBatch: Calling spill() on RowBasedKeyValueBatch. Will not spill but return 0.\n",
            "23/04/16 23:19:25 WARN RowBasedKeyValueBatch: Calling spill() on RowBasedKeyValueBatch. Will not spill but return 0.\n",
            "23/04/16 23:19:25 WARN RowBasedKeyValueBatch: Calling spill() on RowBasedKeyValueBatch. Will not spill but return 0.\n"
          ]
        },
        {
          "name": "stderr",
          "output_type": "stream",
          "text": [
            "                                                                                \r"
          ]
        },
        {
          "name": "stdout",
          "output_type": "stream",
          "text": [
            "Recall of slight accidents (class 3): 0.974313\n",
            "Precision of slight accidents (class 3): 0.919791\n"
          ]
        },
        {
          "name": "stderr",
          "output_type": "stream",
          "text": [
            "[Stage 26165:================================================>      (8 + 1) / 9]\r"
          ]
        },
        {
          "name": "stdout",
          "output_type": "stream",
          "text": [
            "23/04/16 23:19:59 WARN RowBasedKeyValueBatch: Calling spill() on RowBasedKeyValueBatch. Will not spill but return 0.\n",
            "23/04/16 23:19:59 WARN RowBasedKeyValueBatch: Calling spill() on RowBasedKeyValueBatch. Will not spill but return 0.\n",
            "23/04/16 23:19:59 WARN RowBasedKeyValueBatch: Calling spill() on RowBasedKeyValueBatch. Will not spill but return 0.\n",
            "23/04/16 23:19:59 WARN RowBasedKeyValueBatch: Calling spill() on RowBasedKeyValueBatch. Will not spill but return 0.\n",
            "23/04/16 23:19:59 WARN RowBasedKeyValueBatch: Calling spill() on RowBasedKeyValueBatch. Will not spill but return 0.\n",
            "23/04/16 23:19:59 WARN RowBasedKeyValueBatch: Calling spill() on RowBasedKeyValueBatch. Will not spill but return 0.\n",
            "23/04/16 23:19:59 WARN RowBasedKeyValueBatch: Calling spill() on RowBasedKeyValueBatch. Will not spill but return 0.\n",
            "23/04/16 23:19:59 WARN RowBasedKeyValueBatch: Calling spill() on RowBasedKeyValueBatch. Will not spill but return 0.\n"
          ]
        },
        {
          "name": "stderr",
          "output_type": "stream",
          "text": [
            "\r",
            "[Stage 26176:>                                                      (0 + 8) / 9]\r"
          ]
        },
        {
          "name": "stdout",
          "output_type": "stream",
          "text": [
            "23/04/16 23:20:01 WARN RowBasedKeyValueBatch: Calling spill() on RowBasedKeyValueBatch. Will not spill but return 0.\n",
            "23/04/16 23:20:01 WARN RowBasedKeyValueBatch: Calling spill() on RowBasedKeyValueBatch. Will not spill but return 0.\n",
            "23/04/16 23:20:01 WARN RowBasedKeyValueBatch: Calling spill() on RowBasedKeyValueBatch. Will not spill but return 0.\n",
            "23/04/16 23:20:01 WARN RowBasedKeyValueBatch: Calling spill() on RowBasedKeyValueBatch. Will not spill but return 0.\n",
            "23/04/16 23:20:01 WARN RowBasedKeyValueBatch: Calling spill() on RowBasedKeyValueBatch. Will not spill but return 0.\n"
          ]
        },
        {
          "name": "stderr",
          "output_type": "stream",
          "text": [
            "[Stage 26241:==========================================>            (7 + 2) / 9]\r"
          ]
        },
        {
          "name": "stdout",
          "output_type": "stream",
          "text": [
            "23/04/16 23:20:41 WARN RowBasedKeyValueBatch: Calling spill() on RowBasedKeyValueBatch. Will not spill but return 0.\n",
            "23/04/16 23:20:41 WARN RowBasedKeyValueBatch: Calling spill() on RowBasedKeyValueBatch. Will not spill but return 0.\n",
            "23/04/16 23:20:41 WARN RowBasedKeyValueBatch: Calling spill() on RowBasedKeyValueBatch. Will not spill but return 0.\n",
            "23/04/16 23:20:41 WARN RowBasedKeyValueBatch: Calling spill() on RowBasedKeyValueBatch. Will not spill but return 0.\n",
            "23/04/16 23:20:41 WARN RowBasedKeyValueBatch: Calling spill() on RowBasedKeyValueBatch. Will not spill but return 0.\n",
            "23/04/16 23:20:41 WARN RowBasedKeyValueBatch: Calling spill() on RowBasedKeyValueBatch. Will not spill but return 0.\n",
            "23/04/16 23:20:41 WARN RowBasedKeyValueBatch: Calling spill() on RowBasedKeyValueBatch. Will not spill but return 0.\n",
            "23/04/16 23:20:41 WARN RowBasedKeyValueBatch: Calling spill() on RowBasedKeyValueBatch. Will not spill but return 0.\n",
            "23/04/16 23:20:41 WARN RowBasedKeyValueBatch: Calling spill() on RowBasedKeyValueBatch. Will not spill but return 0.\n",
            "23/04/16 23:20:41 WARN RowBasedKeyValueBatch: Calling spill() on RowBasedKeyValueBatch. Will not spill but return 0.\n",
            "23/04/16 23:20:41 WARN RowBasedKeyValueBatch: Calling spill() on RowBasedKeyValueBatch. Will not spill but return 0.\n",
            "23/04/16 23:20:41 WARN RowBasedKeyValueBatch: Calling spill() on RowBasedKeyValueBatch. Will not spill but return 0.\n",
            "23/04/16 23:20:41 WARN RowBasedKeyValueBatch: Calling spill() on RowBasedKeyValueBatch. Will not spill but return 0.\n"
          ]
        },
        {
          "name": "stderr",
          "output_type": "stream",
          "text": [
            "[Stage 26317:================================================>      (8 + 1) / 9]\r"
          ]
        },
        {
          "name": "stdout",
          "output_type": "stream",
          "text": [
            "23/04/16 23:21:19 WARN RowBasedKeyValueBatch: Calling spill() on RowBasedKeyValueBatch. Will not spill but return 0.\n",
            "23/04/16 23:21:19 WARN RowBasedKeyValueBatch: Calling spill() on RowBasedKeyValueBatch. Will not spill but return 0.\n",
            "23/04/16 23:21:19 WARN RowBasedKeyValueBatch: Calling spill() on RowBasedKeyValueBatch. Will not spill but return 0.\n",
            "23/04/16 23:21:19 WARN RowBasedKeyValueBatch: Calling spill() on RowBasedKeyValueBatch. Will not spill but return 0.\n",
            "23/04/16 23:21:19 WARN RowBasedKeyValueBatch: Calling spill() on RowBasedKeyValueBatch. Will not spill but return 0.\n",
            "23/04/16 23:21:19 WARN RowBasedKeyValueBatch: Calling spill() on RowBasedKeyValueBatch. Will not spill but return 0.\n",
            "23/04/16 23:21:19 WARN RowBasedKeyValueBatch: Calling spill() on RowBasedKeyValueBatch. Will not spill but return 0.\n",
            "23/04/16 23:21:19 WARN RowBasedKeyValueBatch: Calling spill() on RowBasedKeyValueBatch. Will not spill but return 0.\n",
            "23/04/16 23:21:19 WARN RowBasedKeyValueBatch: Calling spill() on RowBasedKeyValueBatch. Will not spill but return 0.\n",
            "23/04/16 23:21:19 WARN RowBasedKeyValueBatch: Calling spill() on RowBasedKeyValueBatch. Will not spill but return 0.\n"
          ]
        },
        {
          "name": "stderr",
          "output_type": "stream",
          "text": [
            "\r",
            "[Stage 26328:>                                                      (0 + 8) / 9]\r"
          ]
        },
        {
          "name": "stdout",
          "output_type": "stream",
          "text": [
            "23/04/16 23:21:19 WARN RowBasedKeyValueBatch: Calling spill() on RowBasedKeyValueBatch. Will not spill but return 0.\n",
            "23/04/16 23:21:19 WARN RowBasedKeyValueBatch: Calling spill() on RowBasedKeyValueBatch. Will not spill but return 0.\n",
            "23/04/16 23:21:19 WARN RowBasedKeyValueBatch: Calling spill() on RowBasedKeyValueBatch. Will not spill but return 0.\n",
            "23/04/16 23:21:19 WARN RowBasedKeyValueBatch: Calling spill() on RowBasedKeyValueBatch. Will not spill but return 0.\n",
            "23/04/16 23:21:19 WARN RowBasedKeyValueBatch: Calling spill() on RowBasedKeyValueBatch. Will not spill but return 0.\n",
            "23/04/16 23:21:19 WARN RowBasedKeyValueBatch: Calling spill() on RowBasedKeyValueBatch. Will not spill but return 0.\n"
          ]
        },
        {
          "name": "stderr",
          "output_type": "stream",
          "text": [
            "                                                                                \r"
          ]
        },
        {
          "name": "stdout",
          "output_type": "stream",
          "text": [
            "Recall of serious accidents (class 2): 0.910294\n",
            "Precision of serious accidents (class 2): 0.947933\n"
          ]
        },
        {
          "name": "stderr",
          "output_type": "stream",
          "text": [
            "[Stage 26418:>                                                      (0 + 8) / 9]\r"
          ]
        },
        {
          "name": "stdout",
          "output_type": "stream",
          "text": [
            "23/04/16 23:22:06 WARN RowBasedKeyValueBatch: Calling spill() on RowBasedKeyValueBatch. Will not spill but return 0.\n",
            "23/04/16 23:22:06 WARN RowBasedKeyValueBatch: Calling spill() on RowBasedKeyValueBatch. Will not spill but return 0.\n",
            "23/04/16 23:22:06 WARN RowBasedKeyValueBatch: Calling spill() on RowBasedKeyValueBatch. Will not spill but return 0.\n",
            "23/04/16 23:22:06 WARN RowBasedKeyValueBatch: Calling spill() on RowBasedKeyValueBatch. Will not spill but return 0.\n",
            "23/04/16 23:22:06 WARN RowBasedKeyValueBatch: Calling spill() on RowBasedKeyValueBatch. Will not spill but return 0.\n",
            "23/04/16 23:22:06 WARN RowBasedKeyValueBatch: Calling spill() on RowBasedKeyValueBatch. Will not spill but return 0.\n",
            "23/04/16 23:22:06 WARN RowBasedKeyValueBatch: Calling spill() on RowBasedKeyValueBatch. Will not spill but return 0.\n",
            "23/04/16 23:22:06 WARN RowBasedKeyValueBatch: Calling spill() on RowBasedKeyValueBatch. Will not spill but return 0.\n",
            "23/04/16 23:22:06 WARN RowBasedKeyValueBatch: Calling spill() on RowBasedKeyValueBatch. Will not spill but return 0.\n",
            "23/04/16 23:22:06 WARN RowBasedKeyValueBatch: Calling spill() on RowBasedKeyValueBatch. Will not spill but return 0.\n",
            "23/04/16 23:22:06 WARN RowBasedKeyValueBatch: Calling spill() on RowBasedKeyValueBatch. Will not spill but return 0.\n",
            "23/04/16 23:22:06 WARN RowBasedKeyValueBatch: Calling spill() on RowBasedKeyValueBatch. Will not spill but return 0.\n",
            "23/04/16 23:22:06 WARN RowBasedKeyValueBatch: Calling spill() on RowBasedKeyValueBatch. Will not spill but return 0.\n",
            "23/04/16 23:22:06 WARN RowBasedKeyValueBatch: Calling spill() on RowBasedKeyValueBatch. Will not spill but return 0.\n",
            "23/04/16 23:22:06 WARN RowBasedKeyValueBatch: Calling spill() on RowBasedKeyValueBatch. Will not spill but return 0.\n",
            "23/04/16 23:22:06 WARN RowBasedKeyValueBatch: Calling spill() on RowBasedKeyValueBatch. Will not spill but return 0.\n"
          ]
        },
        {
          "name": "stderr",
          "output_type": "stream",
          "text": [
            "[Stage 26483:================================================>      (8 + 1) / 9]\r"
          ]
        },
        {
          "name": "stdout",
          "output_type": "stream",
          "text": [
            "23/04/16 23:22:39 WARN RowBasedKeyValueBatch: Calling spill() on RowBasedKeyValueBatch. Will not spill but return 0.\n",
            "23/04/16 23:22:39 WARN RowBasedKeyValueBatch: Calling spill() on RowBasedKeyValueBatch. Will not spill but return 0.\n",
            "23/04/16 23:22:39 WARN RowBasedKeyValueBatch: Calling spill() on RowBasedKeyValueBatch. Will not spill but return 0.\n",
            "23/04/16 23:22:39 WARN RowBasedKeyValueBatch: Calling spill() on RowBasedKeyValueBatch. Will not spill but return 0.\n",
            "23/04/16 23:22:39 WARN RowBasedKeyValueBatch: Calling spill() on RowBasedKeyValueBatch. Will not spill but return 0.\n",
            "23/04/16 23:22:39 WARN RowBasedKeyValueBatch: Calling spill() on RowBasedKeyValueBatch. Will not spill but return 0.\n",
            "23/04/16 23:22:39 WARN RowBasedKeyValueBatch: Calling spill() on RowBasedKeyValueBatch. Will not spill but return 0.\n",
            "23/04/16 23:22:39 WARN RowBasedKeyValueBatch: Calling spill() on RowBasedKeyValueBatch. Will not spill but return 0.\n"
          ]
        },
        {
          "name": "stderr",
          "output_type": "stream",
          "text": [
            "[Stage 26570:>                                                      (0 + 8) / 9]\r"
          ]
        },
        {
          "name": "stdout",
          "output_type": "stream",
          "text": [
            "23/04/16 23:23:24 WARN RowBasedKeyValueBatch: Calling spill() on RowBasedKeyValueBatch. Will not spill but return 0.\n",
            "23/04/16 23:23:25 WARN RowBasedKeyValueBatch: Calling spill() on RowBasedKeyValueBatch. Will not spill but return 0.\n",
            "23/04/16 23:23:25 WARN RowBasedKeyValueBatch: Calling spill() on RowBasedKeyValueBatch. Will not spill but return 0.\n",
            "23/04/16 23:23:25 WARN RowBasedKeyValueBatch: Calling spill() on RowBasedKeyValueBatch. Will not spill but return 0.\n",
            "23/04/16 23:23:25 WARN RowBasedKeyValueBatch: Calling spill() on RowBasedKeyValueBatch. Will not spill but return 0.\n",
            "23/04/16 23:23:25 WARN RowBasedKeyValueBatch: Calling spill() on RowBasedKeyValueBatch. Will not spill but return 0.\n",
            "23/04/16 23:23:25 WARN RowBasedKeyValueBatch: Calling spill() on RowBasedKeyValueBatch. Will not spill but return 0.\n",
            "23/04/16 23:23:25 WARN RowBasedKeyValueBatch: Calling spill() on RowBasedKeyValueBatch. Will not spill but return 0.\n"
          ]
        },
        {
          "name": "stderr",
          "output_type": "stream",
          "text": [
            "\r",
            "[Stage 26570:================================================>      (8 + 1) / 9]\r"
          ]
        },
        {
          "name": "stdout",
          "output_type": "stream",
          "text": [
            "Recall of fatal accidents (class 1): 0.893456\n",
            "Precision of fatal accidents (class 1): 0.938740\n"
          ]
        },
        {
          "name": "stderr",
          "output_type": "stream",
          "text": [
            "\r",
            "                                                                                \r"
          ]
        }
      ],
      "source": [
        "#calculate the recall and precision of severe accidents\n",
        "TP = conf_matrix.filter(col(\"accident_severity\") == 3).select(col(\"3\")).collect()[0][0]\n",
        "FN = conf_matrix.filter(col(\"accident_severity\") == 3).select(col(\"1\") + col(\"2\")).collect()[0][0]\n",
        "FP = conf_matrix.filter(col(\"accident_severity\").isin([1, 2])).select(col(\"3\")).groupBy().sum().collect()[0][0]\n",
        "recall = TP / (TP + FN)\n",
        "precision = TP / (TP + FP)\n",
        "print(\"Recall of slight accidents (class 3): %f\" % recall)\n",
        "print(\"Precision of slight accidents (class 3): %f\" % precision)\n",
        "\n",
        "\n",
        "#calculate the recall and precision of moderately severe accidents\n",
        "TP = conf_matrix.filter(col(\"accident_severity\") == 2).select(col(\"2\")).collect()[0][0]\n",
        "FN = conf_matrix.filter(col(\"accident_severity\") == 2).select(col(\"1\") + col(\"3\")).collect()[0][0]\n",
        "FP = conf_matrix.filter(col(\"accident_severity\").isin([1, 3])).select(col(\"2\")).groupBy().sum().collect()[0][0]\n",
        "recall = TP / (TP + FN)\n",
        "precision = TP / (TP + FP)\n",
        "print(\"Recall of serious accidents (class 2): %f\" % recall)\n",
        "print(\"Precision of serious accidents (class 2): %f\" % precision)\n",
        "\n",
        "\n",
        "#calculate the recall and precision of least severe accidents\n",
        "TP = conf_matrix.filter(col(\"accident_severity\") == 1).select(col(\"1\")).collect()[0][0]\n",
        "FN = conf_matrix.filter(col(\"accident_severity\") == 1).select(col(\"2\") + col(\"3\")).collect()[0][0]\n",
        "FP = conf_matrix.filter(col(\"accident_severity\").isin([3, 2])).select(col(\"1\")).groupBy().sum().collect()[0][0]\n",
        "recall = TP / (TP + FN)\n",
        "precision = TP / (TP + FP)\n",
        "print(\"Recall of fatal accidents (class 1): %f\" % recall)\n",
        "print(\"Precision of fatal accidents (class 1): %f\" % precision)"
      ]
    },
    {
      "cell_type": "code",
      "execution_count": null,
      "id": "b1f4ae86",
      "metadata": {
        "id": "b1f4ae86",
        "outputId": "8d1ab80f-11bf-4bd8-b65a-ff977a5d5b23"
      },
      "outputs": [
        {
          "name": "stdout",
          "output_type": "stream",
          "text": [
            "Best parameters:  {Param(parent='DecisionTreeClassifier_1ad196aa378a', name='maxDepth', doc='Maximum depth of the tree. (>= 0) E.g., depth 0 means 1 leaf node; depth 1 means 1 internal node + 2 leaf nodes. Must be in range [0, 30].'): 10, Param(parent='DecisionTreeClassifier_1ad196aa378a', name='maxBins', doc='Max number of bins for discretizing continuous features.  Must be >=2 and >= number of categories for any categorical feature.'): 20, Param(parent='DecisionTreeClassifier_1ad196aa378a', name='impurity', doc='Criterion used for information gain calculation (case-insensitive). Supported options: entropy, gini'): 'entropy'}\n"
          ]
        }
      ],
      "source": [
        "# get best model and parameters\n",
        "best_model = cv_pipeline.bestModel\n",
        "best_params = cv_pipeline.getEstimatorParamMaps()[np.argmax(cv_pipeline.avgMetrics)]\n",
        "\n",
        "# print best parameters\n",
        "print(\"Best parameters: \", best_params)\n"
      ]
    },
    {
      "cell_type": "code",
      "execution_count": null,
      "id": "cedf05c8",
      "metadata": {
        "id": "cedf05c8"
      },
      "outputs": [],
      "source": []
    }
  ],
  "metadata": {
    "kernelspec": {
      "display_name": "Python 3 (ipykernel)",
      "language": "python",
      "name": "python3"
    },
    "language_info": {
      "codemirror_mode": {
        "name": "ipython",
        "version": 3
      },
      "file_extension": ".py",
      "mimetype": "text/x-python",
      "name": "python",
      "nbconvert_exporter": "python",
      "pygments_lexer": "ipython3",
      "version": "3.9.13"
    },
    "colab": {
      "provenance": [],
      "include_colab_link": true
    }
  },
  "nbformat": 4,
  "nbformat_minor": 5
}